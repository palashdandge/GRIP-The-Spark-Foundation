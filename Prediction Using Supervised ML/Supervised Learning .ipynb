{
 "cells": [
  {
   "cell_type": "markdown",
   "id": "458a858a",
   "metadata": {},
   "source": [
    "# GRIP - The Spark Foundation\n",
    "\n",
    "### Author - Palash Dandge\n",
    "\n",
    "### Data Science & Business Analytics Internship"
   ]
  },
  {
   "cell_type": "markdown",
   "id": "19e4f8e3",
   "metadata": {},
   "source": [
    "## Task 1\n",
    "\n",
    "### Predict the percentage of an Student based on the Number of Study Hours"
   ]
  },
  {
   "cell_type": "code",
   "execution_count": 189,
   "id": "8e8a33fc",
   "metadata": {},
   "outputs": [],
   "source": [
    "import pandas as pd\n",
    "import numpy as np\n",
    "import matplotlib.pyplot as plt"
   ]
  },
  {
   "cell_type": "code",
   "execution_count": 190,
   "id": "7d071501",
   "metadata": {},
   "outputs": [
    {
     "data": {
      "text/html": [
       "<div>\n",
       "<style scoped>\n",
       "    .dataframe tbody tr th:only-of-type {\n",
       "        vertical-align: middle;\n",
       "    }\n",
       "\n",
       "    .dataframe tbody tr th {\n",
       "        vertical-align: top;\n",
       "    }\n",
       "\n",
       "    .dataframe thead th {\n",
       "        text-align: right;\n",
       "    }\n",
       "</style>\n",
       "<table border=\"1\" class=\"dataframe\">\n",
       "  <thead>\n",
       "    <tr style=\"text-align: right;\">\n",
       "      <th></th>\n",
       "      <th>Hours</th>\n",
       "      <th>Scores</th>\n",
       "    </tr>\n",
       "  </thead>\n",
       "  <tbody>\n",
       "    <tr>\n",
       "      <th>0</th>\n",
       "      <td>2.5</td>\n",
       "      <td>21</td>\n",
       "    </tr>\n",
       "    <tr>\n",
       "      <th>1</th>\n",
       "      <td>5.1</td>\n",
       "      <td>47</td>\n",
       "    </tr>\n",
       "    <tr>\n",
       "      <th>2</th>\n",
       "      <td>3.2</td>\n",
       "      <td>27</td>\n",
       "    </tr>\n",
       "    <tr>\n",
       "      <th>3</th>\n",
       "      <td>8.5</td>\n",
       "      <td>75</td>\n",
       "    </tr>\n",
       "    <tr>\n",
       "      <th>4</th>\n",
       "      <td>3.5</td>\n",
       "      <td>30</td>\n",
       "    </tr>\n",
       "  </tbody>\n",
       "</table>\n",
       "</div>"
      ],
      "text/plain": [
       "   Hours  Scores\n",
       "0    2.5      21\n",
       "1    5.1      47\n",
       "2    3.2      27\n",
       "3    8.5      75\n",
       "4    3.5      30"
      ]
     },
     "execution_count": 190,
     "metadata": {},
     "output_type": "execute_result"
    }
   ],
   "source": [
    "# loading the dataset \n",
    "df = pd.read_csv('student_scores_student_scores.csv')\n",
    "df.head()"
   ]
  },
  {
   "cell_type": "code",
   "execution_count": 191,
   "id": "8288905d",
   "metadata": {},
   "outputs": [
    {
     "data": {
      "text/plain": [
       "<AxesSubplot:xlabel='Hours', ylabel='Scores'>"
      ]
     },
     "execution_count": 191,
     "metadata": {},
     "output_type": "execute_result"
    },
    {
     "data": {
      "image/png": "[encoded data removed]",
      "text/plain": [
       "<Figure size 432x288 with 1 Axes>"
      ]
     },
     "metadata": {
      "needs_background": "light"
     },
     "output_type": "display_data"
    }
   ],
   "source": [
    "df.plot.scatter(x = 'Hours' , y = 'Scores')"
   ]
  },
  {
   "cell_type": "markdown",
   "id": "d8cc4c72",
   "metadata": {},
   "source": [
    "### Standardization"
   ]
  },
  {
   "cell_type": "code",
   "execution_count": 192,
   "id": "bb9ea044",
   "metadata": {},
   "outputs": [],
   "source": [
    "from sklearn.preprocessing import StandardScaler"
   ]
  },
  {
   "cell_type": "code",
   "execution_count": 193,
   "id": "d9434ec4",
   "metadata": {
    "scrolled": true
   },
   "outputs": [
    {
     "data": {
      "text/plain": [
       "array([[-1.01532822, -1.23022337],\n",
       "       [ 0.03556882, -0.18082023],\n",
       "       [-0.7323944 , -0.98805342],\n",
       "       [ 1.40981881,  0.94930623],\n",
       "       [-0.61113705, -0.86696844],\n",
       "       [-1.4195194 , -1.27058503],\n",
       "       [ 1.69275263,  1.4740078 ],\n",
       "       [ 0.19724529,  0.34388134],\n",
       "       [ 1.32898057,  1.19147618],\n",
       "       [-0.93448999, -1.06877674],\n",
       "       [ 1.08646587,  1.35292282],\n",
       "       [ 0.35892176,  0.42460466],\n",
       "       [-0.20694588, -0.42299019],\n",
       "       [-0.69197529, -0.38262853],\n",
       "       [-1.58119586, -1.39167001],\n",
       "       [ 1.57149528,  1.75653941],\n",
       "       [-1.01532822, -0.86696844],\n",
       "       [-1.25784293, -1.1091384 ],\n",
       "       [ 0.43975999,  0.62641295],\n",
       "       [ 0.96520852,  0.70713627],\n",
       "       [-0.93448999, -0.86696844],\n",
       "       [-0.08568853,  0.10171138],\n",
       "       [-0.4898797 , -0.66516014],\n",
       "       [ 0.76311293,  0.98966788],\n",
       "       [ 1.12688499,  1.39328448]])"
      ]
     },
     "execution_count": 193,
     "metadata": {},
     "output_type": "execute_result"
    }
   ],
   "source": [
    "scaler = StandardScaler()\n",
    "\n",
    "scaler_value = scaler.fit_transform(df)\n",
    "scaler_value"
   ]
  },
  {
   "cell_type": "markdown",
   "id": "2bd16d37",
   "metadata": {},
   "source": [
    "### Checking Multi_Colinearity Between X and y "
   ]
  },
  {
   "cell_type": "code",
   "execution_count": 194,
   "id": "c3338e7e",
   "metadata": {},
   "outputs": [],
   "source": [
    "from statsmodels.stats.outliers_influence import variance_inflation_factor as vif"
   ]
  },
  {
   "cell_type": "code",
   "execution_count": 195,
   "id": "2e0e4051",
   "metadata": {},
   "outputs": [],
   "source": [
    "vvif = scaler_value"
   ]
  },
  {
   "cell_type": "markdown",
   "id": "f6a84d9a",
   "metadata": {},
   "source": [
    "### Creating a New Column for VIF Values "
   ]
  },
  {
   "cell_type": "code",
   "execution_count": 196,
   "id": "b4bd2ceb",
   "metadata": {},
   "outputs": [
    {
     "data": {
      "text/html": [
       "<div>\n",
       "<style scoped>\n",
       "    .dataframe tbody tr th:only-of-type {\n",
       "        vertical-align: middle;\n",
       "    }\n",
       "\n",
       "    .dataframe tbody tr th {\n",
       "        vertical-align: top;\n",
       "    }\n",
       "\n",
       "    .dataframe thead th {\n",
       "        text-align: right;\n",
       "    }\n",
       "</style>\n",
       "<table border=\"1\" class=\"dataframe\">\n",
       "  <thead>\n",
       "    <tr style=\"text-align: right;\">\n",
       "      <th></th>\n",
       "      <th>VIF_Value</th>\n",
       "      <th>Features</th>\n",
       "    </tr>\n",
       "  </thead>\n",
       "  <tbody>\n",
       "    <tr>\n",
       "      <th>0</th>\n",
       "      <td>21.253171</td>\n",
       "      <td>Hours</td>\n",
       "    </tr>\n",
       "    <tr>\n",
       "      <th>1</th>\n",
       "      <td>21.253171</td>\n",
       "      <td>Scores</td>\n",
       "    </tr>\n",
       "  </tbody>\n",
       "</table>\n",
       "</div>"
      ],
      "text/plain": [
       "   VIF_Value Features\n",
       "0  21.253171    Hours\n",
       "1  21.253171   Scores"
      ]
     },
     "execution_count": 196,
     "metadata": {},
     "output_type": "execute_result"
    }
   ],
   "source": [
    "var = pd.DataFrame()\n",
    "var['VIF_Value'] = [vif(vvif , 1) for i in range(vvif.shape[1])]\n",
    "var['Features'] = df.columns\n",
    "var"
   ]
  },
  {
   "cell_type": "markdown",
   "id": "48e97980",
   "metadata": {},
   "source": [
    "### Spliting the data into Independent and Dependent Variable "
   ]
  },
  {
   "cell_type": "code",
   "execution_count": 197,
   "id": "fd5cdf13",
   "metadata": {},
   "outputs": [],
   "source": [
    "x = df['Hours']\n",
    "y = df['Scores']"
   ]
  },
  {
   "cell_type": "markdown",
   "id": "a621112a",
   "metadata": {},
   "source": [
    "### Spliting the data Into Train and Test "
   ]
  },
  {
   "cell_type": "code",
   "execution_count": 198,
   "id": "2ee17916",
   "metadata": {},
   "outputs": [],
   "source": [
    "from sklearn.model_selection import train_test_split"
   ]
  },
  {
   "cell_type": "code",
   "execution_count": 199,
   "id": "90cbe140",
   "metadata": {},
   "outputs": [],
   "source": [
    "x_train , x_test , y_train , y_test = train_test_split( x , y , test_size = 0.2 , random_state = 0)\n"
   ]
  },
  {
   "cell_type": "code",
   "execution_count": 200,
   "id": "07c4867d",
   "metadata": {},
   "outputs": [],
   "source": [
    "x_train = np.array(x_train).reshape(-1 , 1)\n"
   ]
  },
  {
   "cell_type": "markdown",
   "id": "97e9f132",
   "metadata": {},
   "source": [
    "### Creating a Linear Model "
   ]
  },
  {
   "cell_type": "code",
   "execution_count": 201,
   "id": "f69e15fb",
   "metadata": {},
   "outputs": [],
   "source": [
    "from sklearn.linear_model import LinearRegression"
   ]
  },
  {
   "cell_type": "code",
   "execution_count": 202,
   "id": "77699af4",
   "metadata": {},
   "outputs": [
    {
     "data": {
      "text/plain": [
       "LinearRegression()"
      ]
     },
     "execution_count": 202,
     "metadata": {},
     "output_type": "execute_result"
    }
   ],
   "source": [
    "model = LinearRegression()\n",
    "my_model = model.fit(x_train , y_train)\n",
    "my_model"
   ]
  },
  {
   "cell_type": "markdown",
   "id": "0eb40b57",
   "metadata": {},
   "source": [
    "### Coefficient and Interept"
   ]
  },
  {
   "cell_type": "code",
   "execution_count": 203,
   "id": "4cd750a8",
   "metadata": {},
   "outputs": [
    {
     "data": {
      "text/plain": [
       "(array([9.91065648]), 2.018160041434662)"
      ]
     },
     "execution_count": 203,
     "metadata": {},
     "output_type": "execute_result"
    }
   ],
   "source": [
    "my_model.coef_ , my_model.intercept_"
   ]
  },
  {
   "cell_type": "code",
   "execution_count": 204,
   "id": "a1492fe8",
   "metadata": {},
   "outputs": [
    {
     "data": {
      "text/plain": [
       "(0     2.5\n",
       " 1     5.1\n",
       " 2     3.2\n",
       " 3     8.5\n",
       " 4     3.5\n",
       " 5     1.5\n",
       " 6     9.2\n",
       " 7     5.5\n",
       " 8     8.3\n",
       " 9     2.7\n",
       " 10    7.7\n",
       " 11    5.9\n",
       " 12    4.5\n",
       " 13    3.3\n",
       " 14    1.1\n",
       " 15    8.9\n",
       " 16    2.5\n",
       " 17    1.9\n",
       " 18    6.1\n",
       " 19    7.4\n",
       " 20    2.7\n",
       " 21    4.8\n",
       " 22    3.8\n",
       " 23    6.9\n",
       " 24    7.8\n",
       " Name: Hours, dtype: float64,\n",
       " 0     21\n",
       " 1     47\n",
       " 2     27\n",
       " 3     75\n",
       " 4     30\n",
       " 5     20\n",
       " 6     88\n",
       " 7     60\n",
       " 8     81\n",
       " 9     25\n",
       " 10    85\n",
       " 11    62\n",
       " 12    41\n",
       " 13    42\n",
       " 14    17\n",
       " 15    95\n",
       " 16    30\n",
       " 17    24\n",
       " 18    67\n",
       " 19    69\n",
       " 20    30\n",
       " 21    54\n",
       " 22    35\n",
       " 23    76\n",
       " 24    86\n",
       " Name: Scores, dtype: int64)"
      ]
     },
     "execution_count": 204,
     "metadata": {},
     "output_type": "execute_result"
    }
   ],
   "source": [
    "x , y"
   ]
  },
  {
   "cell_type": "markdown",
   "id": "e2b5c903",
   "metadata": {},
   "source": [
    "### Calculating Coef , Intercept\n",
    "* y = mx+c"
   ]
  },
  {
   "cell_type": "code",
   "execution_count": 205,
   "id": "47e0c8d4",
   "metadata": {},
   "outputs": [
    {
     "data": {
      "text/plain": [
       "0     26.794801\n",
       "1     52.562508\n",
       "2     33.732261\n",
       "3     86.258740\n",
       "4     36.705458\n",
       "5     16.884145\n",
       "6     93.196200\n",
       "7     56.526771\n",
       "8     84.276609\n",
       "9     28.776933\n",
       "10    78.330215\n",
       "11    60.491033\n",
       "12    46.616114\n",
       "13    34.723326\n",
       "14    12.919882\n",
       "15    90.223003\n",
       "16    26.794801\n",
       "17    20.848407\n",
       "18    62.473165\n",
       "19    75.357018\n",
       "20    28.776933\n",
       "21    49.589311\n",
       "22    39.678655\n",
       "23    70.401690\n",
       "24    79.321281\n",
       "Name: Hours, dtype: float64"
      ]
     },
     "execution_count": 205,
     "metadata": {},
     "output_type": "execute_result"
    }
   ],
   "source": [
    "ok = 9.91065648 * x + 2.018160041434662\n",
    "ok"
   ]
  },
  {
   "cell_type": "markdown",
   "id": "2b9facd2",
   "metadata": {},
   "source": [
    "\n",
    "### Plotting the Least SQuare Method"
   ]
  },
  {
   "cell_type": "code",
   "execution_count": 206,
   "id": "d3ed1ec7",
   "metadata": {},
   "outputs": [
    {
     "data": {
      "text/html": [
       "<div>\n",
       "<style scoped>\n",
       "    .dataframe tbody tr th:only-of-type {\n",
       "        vertical-align: middle;\n",
       "    }\n",
       "\n",
       "    .dataframe tbody tr th {\n",
       "        vertical-align: top;\n",
       "    }\n",
       "\n",
       "    .dataframe thead th {\n",
       "        text-align: right;\n",
       "    }\n",
       "</style>\n",
       "<table border=\"1\" class=\"dataframe\">\n",
       "  <thead>\n",
       "    <tr style=\"text-align: right;\">\n",
       "      <th></th>\n",
       "      <th>Hours</th>\n",
       "    </tr>\n",
       "  </thead>\n",
       "  <tbody>\n",
       "    <tr>\n",
       "      <th>0</th>\n",
       "      <td>1.1</td>\n",
       "    </tr>\n",
       "    <tr>\n",
       "      <th>1</th>\n",
       "      <td>9.2</td>\n",
       "    </tr>\n",
       "  </tbody>\n",
       "</table>\n",
       "</div>"
      ],
      "text/plain": [
       "   Hours\n",
       "0    1.1\n",
       "1    9.2"
      ]
     },
     "execution_count": 206,
     "metadata": {},
     "output_type": "execute_result"
    }
   ],
   "source": [
    "feature = pd.DataFrame({'Hours' : [df.Hours.min() , df.Hours.max()] })\n",
    "feature"
   ]
  },
  {
   "cell_type": "markdown",
   "id": "1a924696",
   "metadata": {},
   "source": [
    "### Prediction"
   ]
  },
  {
   "cell_type": "code",
   "execution_count": 207,
   "id": "b2b4e7e8",
   "metadata": {},
   "outputs": [
    {
     "data": {
      "text/plain": [
       "array([12.91988217, 93.19619966])"
      ]
     },
     "execution_count": 207,
     "metadata": {},
     "output_type": "execute_result"
    }
   ],
   "source": [
    "y_pred = my_model.predict(feature)\n",
    "y_pred"
   ]
  },
  {
   "cell_type": "code",
   "execution_count": 208,
   "id": "5837f358",
   "metadata": {},
   "outputs": [
    {
     "data": {
      "text/plain": [
       "[<matplotlib.lines.Line2D at 0x24ba56d5910>]"
      ]
     },
     "execution_count": 208,
     "metadata": {},
     "output_type": "execute_result"
    },
    {
     "data": {
      "image/png": "[encoded data removed]",
      "text/plain": [
       "<Figure size 432x288 with 1 Axes>"
      ]
     },
     "metadata": {
      "needs_background": "light"
     },
     "output_type": "display_data"
    }
   ],
   "source": [
    "# Predicting the Observed Data\n",
    "df.plot.scatter(x = 'Hours' , y = 'Scores')\n",
    "\n",
    "# predicting the LSM data\n",
    "plt.plot( feature,y_pred , c = 'r')"
   ]
  },
  {
   "cell_type": "markdown",
   "id": "f92cedcf",
   "metadata": {},
   "source": [
    "### Checking Model Score "
   ]
  },
  {
   "cell_type": "code",
   "execution_count": 209,
   "id": "52352436",
   "metadata": {},
   "outputs": [
    {
     "data": {
      "text/plain": [
       "1.0"
      ]
     },
     "execution_count": 209,
     "metadata": {},
     "output_type": "execute_result"
    }
   ],
   "source": [
    "my_model.score(feature , y_pred)"
   ]
  },
  {
   "cell_type": "markdown",
   "id": "d30a6bc0",
   "metadata": {},
   "source": [
    "### Observation using statsmodels "
   ]
  },
  {
   "cell_type": "code",
   "execution_count": 210,
   "id": "268430ac",
   "metadata": {},
   "outputs": [
    {
     "data": {
      "text/plain": [
       "145.82623195883812"
      ]
     },
     "execution_count": 210,
     "metadata": {},
     "output_type": "execute_result"
    }
   ],
   "source": [
    "import statsmodels.formula.api as smf\n",
    "my_model = smf.ols(formula='Hours ~ Scores', data=df).fit()\n",
    "my_model.mse_model\n",
    "\n",
    "# ols  = ordinary least square method \n",
    "# ~ = means showing Relation between sales and TV\n"
   ]
  },
  {
   "cell_type": "markdown",
   "id": "4a7c0a5b",
   "metadata": {},
   "source": [
    "### Checking R-Square"
   ]
  },
  {
   "cell_type": "code",
   "execution_count": 211,
   "id": "332f2ad4",
   "metadata": {},
   "outputs": [
    {
     "data": {
      "text/plain": [
       "0.9529481969048356"
      ]
     },
     "execution_count": 211,
     "metadata": {},
     "output_type": "execute_result"
    }
   ],
   "source": [
    "my_model.rsquared"
   ]
  },
  {
   "cell_type": "markdown",
   "id": "371376f8",
   "metadata": {},
   "source": [
    "                                **Conclusion is that my Model Gives 95% Accuracy**"
   ]
  },
  {
   "cell_type": "code",
   "execution_count": null,
   "id": "f752b480",
   "metadata": {},
   "outputs": [],
   "source": []
  },
  {
   "cell_type": "code",
   "execution_count": null,
   "id": "f0459ca2",
   "metadata": {},
   "outputs": [],
   "source": []
  },
  {
   "cell_type": "code",
   "execution_count": null,
   "id": "75c5958b",
   "metadata": {},
   "outputs": [],
   "source": []
  },
  {
   "cell_type": "code",
   "execution_count": null,
   "id": "f07a8a82",
   "metadata": {},
   "outputs": [],
   "source": []
  },
  {
   "cell_type": "code",
   "execution_count": null,
   "id": "bbe97196",
   "metadata": {},
   "outputs": [],
   "source": []
  }
 ],
 "metadata": {
  "kernelspec": {
   "display_name": "Python 3",
   "language": "python",
   "name": "python3"
  },
  "language_info": {
   "codemirror_mode": {
    "name": "ipython",
    "version": 3
   },
   "file_extension": ".py",
   "mimetype": "text/x-python",
   "name": "python",
   "nbconvert_exporter": "python",
   "pygments_lexer": "ipython3",
   "version": "3.8.8"
  }
 },
 "nbformat": 4,
 "nbformat_minor": 5
}
